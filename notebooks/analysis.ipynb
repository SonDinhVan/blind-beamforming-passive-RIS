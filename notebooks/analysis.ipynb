{
 "cells": [
  {
   "cell_type": "code",
   "execution_count": 1,
   "id": "9aa9b15f",
   "metadata": {},
   "outputs": [],
   "source": [
    "import numpy as np\n",
    "from modules import node, sensing, system\n",
    "from modules import optimization as opt\n",
    "from configs import config\n",
    "\n",
    "noise_power = config.NOISE_POWER"
   ]
  },
  {
   "cell_type": "code",
   "execution_count": 2,
   "id": "ff5f41fc",
   "metadata": {},
   "outputs": [],
   "source": [
    "tx = node.TX(x=0, y=0, z=10)\n",
    "rx = node.RX(x=50, y=50, z=1.5)\n",
    "ris = node.RIS(x=10, y=50, z=2, N=100)\n",
    "\n",
    "sys = system.System(tx, ris, rx)\n",
    "\n",
    "# generate a channel h\n",
    "sys.gen_channels(is_los=False)"
   ]
  },
  {
   "cell_type": "code",
   "execution_count": 3,
   "id": "18165cff",
   "metadata": {},
   "outputs": [],
   "source": [
    "# sending samples and collect observation:\n",
    "N_samples = 2000\n",
    "X = np.zeros(shape=(sys.ris.N, N_samples))\n",
    "y = np.zeros(shape=(N_samples, 1))\n",
    "\n",
    "for i in range(N_samples):\n",
    "    # generate a random ris setting\n",
    "    sys.ris.set_random_binary_phase_shifts()\n",
    "    x = sys.ris.vector_x\n",
    "    X[:, i] = x.flatten()\n",
    "    y[i] = sys.cal_snr() - sys.c_true"
   ]
  },
  {
   "cell_type": "markdown",
   "id": "31fafa01",
   "metadata": {},
   "source": [
    "Perfect CSI"
   ]
  },
  {
   "cell_type": "code",
   "execution_count": 4,
   "id": "f1a12b59",
   "metadata": {},
   "outputs": [],
   "source": [
    "sys.ris.theta, sys.ris.vector_x = opt.perfect_csi(h_0=sys.h_0, h_=sys.h)\n",
    "perfect_csi = 10 * np.log10(sys.cal_snr())"
   ]
  },
  {
   "cell_type": "markdown",
   "id": "3301f4c4",
   "metadata": {},
   "source": [
    "RMS + RFocus + CSM"
   ]
  },
  {
   "cell_type": "code",
   "execution_count": 5,
   "id": "e33be66a",
   "metadata": {},
   "outputs": [],
   "source": [
    "# RMS\n",
    "sys.ris.vector_x = opt.RMS(X, y)\n",
    "rms = 10 * np.log10(sys.cal_snr())\n",
    "# RFocus\n",
    "sys.ris.vector_x = opt.RFocus(X, y)\n",
    "rfocus = 10 * np.log10(sys.cal_snr())\n",
    "# Conditional Sample Mean\n",
    "sys.ris.vector_x = opt.CSM(X, y)\n",
    "csm = 10 * np.log10(sys.cal_snr())"
   ]
  },
  {
   "cell_type": "markdown",
   "id": "fc4a86f2",
   "metadata": {},
   "source": [
    "BORN: Sensing + Optimization"
   ]
  },
  {
   "cell_type": "code",
   "execution_count": 6,
   "id": "167f7ffe",
   "metadata": {},
   "outputs": [
    {
     "name": "stderr",
     "output_type": "stream",
     "text": [
      "findfont: Font family 'Helvetica' not found.\n",
      "findfont: Font family 'Helvetica' not found.\n",
      "findfont: Font family 'Helvetica' not found.\n",
      "findfont: Font family 'Helvetica' not found.\n",
      "findfont: Font family 'Helvetica' not found.\n"
     ]
    },
    {
     "name": "stdout",
     "output_type": "stream",
     "text": [
      "Variance of the last 5 estimates = 0.0012643338159027818\n",
      "Consider to increase the batch size or number of samples.\n"
     ]
    },
    {
     "data": {
      "image/png": "[encoded data removed]",
      "text/plain": [
       "<Figure size 640x480 with 1 Axes>"
      ]
     },
     "metadata": {},
     "output_type": "display_data"
    },
    {
     "name": "stdout",
     "output_type": "stream",
     "text": [
      "Variance of the last 5 estimates = 0.0012643338159027818\n"
     ]
    }
   ],
   "source": [
    "sens = sensing.Sensing(B=1000, N=sys.ris.N)\n",
    "M_est, w_est, all_norms = sens.solve(X=X, y=y, err_var=10**-6, convergence_plot=True)\n",
    "print(f\"Variance of the last 5 estimates = {np.var(all_norms[-5:])}\")\n",
    "M_est_proj = sens.project_to_psd_lowrank(M_est, r=2)"
   ]
  },
  {
   "cell_type": "code",
   "execution_count": 7,
   "id": "7248605b",
   "metadata": {},
   "outputs": [
    {
     "data": {
      "text/plain": [
       "(array([[0.06297499, 0.04244301],\n",
       "        [0.04244301, 0.02868932]]),\n",
       " array([[0.05383481, 0.04123529],\n",
       "        [0.04123529, 0.0317398 ]]),\n",
       " array([[0.05383816, 0.04123685],\n",
       "        [0.04123685, 0.03174053]]),\n",
       " array([[-0.00420533],\n",
       "        [ 0.04330953]]),\n",
       " array([[0.],\n",
       "        [0.]]))"
      ]
     },
     "execution_count": 7,
     "metadata": {},
     "output_type": "execute_result"
    }
   ],
   "source": [
    "sys.M_true[:2, :2], M_est[:2, :2], M_est_proj[:2, :2], w_est[:2], sys.w_true[:2]"
   ]
  },
  {
   "cell_type": "code",
   "execution_count": 8,
   "id": "526bfeb7",
   "metadata": {},
   "outputs": [],
   "source": [
    "sys.ris.vector_x= opt.solve_our_optimization(M_est_proj, w_est)\n",
    "sys.ris.theta= np.arccos(sys.ris.vector_x)\n",
    "our = 10 * np.log10(sys.cal_snr())"
   ]
  },
  {
   "cell_type": "markdown",
   "id": "fd3678a1",
   "metadata": {},
   "source": [
    "GCSM (group the elements)"
   ]
  },
  {
   "cell_type": "code",
   "execution_count": 9,
   "id": "92b9e712",
   "metadata": {},
   "outputs": [],
   "source": [
    "sys.run_GCSM(N_samples=N_samples)\n",
    "gcsm = 10 * np.log10(sys.cal_snr())"
   ]
  },
  {
   "cell_type": "code",
   "execution_count": 10,
   "id": "48e0de81",
   "metadata": {},
   "outputs": [
    {
     "name": "stdout",
     "output_type": "stream",
     "text": [
      "Performance benchmarks\n",
      "RMS            : 16.454 dB\n",
      "RFocus         : -0.327 dB\n",
      "CSM            : 7.847 dB\n",
      "GCSM           : 20.882 dB\n",
      "__Proposed BORN: 22.829 dB\n",
      "__Perfect CSI__: 22.880 dB\n"
     ]
    }
   ],
   "source": [
    "print('Performance benchmarks')\n",
    "print(f'{\"RMS\":<15}: {rms:.3f} dB')\n",
    "print(f'{\"RFocus\":<15}: {rfocus:.3f} dB')\n",
    "print(f'{\"CSM\":<15}: {csm:.3f} dB')\n",
    "print(f'{\"GCSM\":<15}: {gcsm:.3f} dB')\n",
    "print(f'{\"__Proposed BORN\":<15}: {our:.3f} dB')\n",
    "print(f'{\"__Perfect CSI__\":<15}: {perfect_csi:.3f} dB')"
   ]
  },
  {
   "cell_type": "markdown",
   "id": "cfcac895",
   "metadata": {},
   "source": []
  }
 ],
 "metadata": {
  "kernelspec": {
   "display_name": "base",
   "language": "python",
   "name": "python3"
  },
  "language_info": {
   "codemirror_mode": {
    "name": "ipython",
    "version": 3
   },
   "file_extension": ".py",
   "mimetype": "text/x-python",
   "name": "python",
   "nbconvert_exporter": "python",
   "pygments_lexer": "ipython3",
   "version": "3.12.7"
  }
 },
 "nbformat": 4,
 "nbformat_minor": 5
}
